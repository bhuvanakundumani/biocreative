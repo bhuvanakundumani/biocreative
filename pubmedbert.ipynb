{
 "cells": [
  {
   "cell_type": "code",
   "execution_count": 1,
   "metadata": {},
   "outputs": [],
   "source": [
    "import pandas as pd\n",
    "\n",
    "import pickle\n",
    "from tqdm import tqdm"
   ]
  },
  {
   "cell_type": "code",
   "execution_count": 3,
   "metadata": {},
   "outputs": [],
   "source": [
    "test_pred = pickle.load(open(\"model_sep14_pubmedbert_5lr_5epochs/pubmedbertpreds.pkl\", \"rb\"))"
   ]
  },
  {
   "cell_type": "code",
   "execution_count": 6,
   "metadata": {},
   "outputs": [],
   "source": [
    "label_map = {'ACTIVATOR': 0, 'AGONIST': 1, 'AGONIST-ACTIVATOR': 2, 'AGONIST-INHIBITOR': 3, 'ANTAGONIST': 4,\n",
    " 'DIRECT-REGULATOR': 5, 'INDIRECT-DOWNREGULATOR': 6, 'INDIRECT-UPREGULATOR': 7, 'INHIBITOR': 8,\n",
    " 'PART-OF': 9, 'PRODUCT-OF': 10, 'SUBSTRATE': 11, 'SUBSTRATE_PRODUCT-OF': 12, 'false': 13}"
   ]
  },
  {
   "cell_type": "code",
   "execution_count": 7,
   "metadata": {},
   "outputs": [],
   "source": [
    "label_map_index = { label_map[i]:i for i in label_map}\n"
   ]
  },
  {
   "cell_type": "code",
   "execution_count": 8,
   "metadata": {},
   "outputs": [],
   "source": [
    "test_pred_map = []\n",
    "for pred in test_pred:\n",
    "    test_pred_map.append(label_map_index[pred])"
   ]
  },
  {
   "cell_type": "code",
   "execution_count": 9,
   "metadata": {},
   "outputs": [],
   "source": [
    "cols = ['pmid_vals', 'sentence']\n",
    "df_test = pd.read_csv(\"processed_data/test.tsv\", sep='\\t', names=cols)"
   ]
  },
  {
   "cell_type": "code",
   "execution_count": 10,
   "metadata": {},
   "outputs": [],
   "source": [
    "df_test[['PMID','arg1', 'arg2']] = df_test.pmid_vals.str.split(\".\",expand=True)"
   ]
  },
  {
   "cell_type": "code",
   "execution_count": 11,
   "metadata": {},
   "outputs": [],
   "source": [
    "df_test['label'] = test_pred_map "
   ]
  },
  {
   "cell_type": "code",
   "execution_count": 12,
   "metadata": {},
   "outputs": [],
   "source": [
    "df_tosubmit = df_test[df_test['label'] != 'false']"
   ]
  },
  {
   "cell_type": "code",
   "execution_count": 14,
   "metadata": {},
   "outputs": [
    {
     "data": {
      "text/plain": [
       "(66416, 6)"
      ]
     },
     "execution_count": 14,
     "metadata": {},
     "output_type": "execute_result"
    }
   ],
   "source": [
    "df_tosubmit.shape"
   ]
  },
  {
   "cell_type": "code",
   "execution_count": 15,
   "metadata": {},
   "outputs": [],
   "source": [
    "pmid = df_tosubmit.PMID.tolist()\n",
    "arg1 = df_tosubmit.arg1.tolist()\n",
    "arg2 = df_tosubmit.arg2.tolist()"
   ]
  },
  {
   "cell_type": "code",
   "execution_count": 16,
   "metadata": {},
   "outputs": [
    {
     "data": {
      "text/plain": [
       "66416"
      ]
     },
     "execution_count": 16,
     "metadata": {},
     "output_type": "execute_result"
    }
   ],
   "source": [
    "len(pmid)"
   ]
  },
  {
   "cell_type": "code",
   "execution_count": 17,
   "metadata": {},
   "outputs": [],
   "source": [
    "file = \"drugprot-gs-training-development/test-background/test_background_entities.tsv\"\n",
    "text = open(file).read().splitlines()\n",
    "\n",
    "data = [x.split(\"\\t\") for x in text]\n",
    "df_test_entities = pd.DataFrame(data, columns= [\"PMID\", \"arg\", \"entity\", \"start\", \"end\", \"name\"])\n"
   ]
  },
  {
   "cell_type": "code",
   "execution_count": 18,
   "metadata": {},
   "outputs": [
    {
     "name": "stderr",
     "output_type": "stream",
     "text": [
      "100%|██████████| 66416/66416 [40:23<00:00, 27.40it/s]\n"
     ]
    }
   ],
   "source": [
    "new_arg1 = []\n",
    "new_arg2 = []\n",
    "for i in tqdm(range(len(pmid))):\n",
    "#for i in range(100):\n",
    "    check_entity = df_test_entities[(df_test_entities['PMID'] == pmid[i]) & (df_test_entities['arg'] == arg1[i])]['entity']\n",
    "    #print(type(check_entity))\n",
    "    if check_entity.values == 'GENE':\n",
    "        new_arg1.append(arg2[i])\n",
    "        new_arg2.append(arg1[i])\n",
    "    else:\n",
    "        new_arg1.append(arg1[i])\n",
    "        new_arg2.append(arg2[i])"
   ]
  },
  {
   "cell_type": "code",
   "execution_count": 21,
   "metadata": {},
   "outputs": [
    {
     "data": {
      "text/html": [
       "<div>\n",
       "<style scoped>\n",
       "    .dataframe tbody tr th:only-of-type {\n",
       "        vertical-align: middle;\n",
       "    }\n",
       "\n",
       "    .dataframe tbody tr th {\n",
       "        vertical-align: top;\n",
       "    }\n",
       "\n",
       "    .dataframe thead th {\n",
       "        text-align: right;\n",
       "    }\n",
       "</style>\n",
       "<table border=\"1\" class=\"dataframe\">\n",
       "  <thead>\n",
       "    <tr style=\"text-align: right;\">\n",
       "      <th></th>\n",
       "      <th>pmid_vals</th>\n",
       "      <th>sentence</th>\n",
       "      <th>PMID</th>\n",
       "      <th>arg1</th>\n",
       "      <th>arg2</th>\n",
       "      <th>label</th>\n",
       "      <th>new_arg1</th>\n",
       "      <th>new_arg2</th>\n",
       "    </tr>\n",
       "  </thead>\n",
       "  <tbody>\n",
       "    <tr>\n",
       "      <th>6</th>\n",
       "      <td>32733640.T17.T30</td>\n",
       "      <td>In moderately injured P19 neuronal cells, conc...</td>\n",
       "      <td>32733640</td>\n",
       "      <td>T17</td>\n",
       "      <td>T30</td>\n",
       "      <td>INHIBITOR</td>\n",
       "      <td>T17</td>\n",
       "      <td>T30</td>\n",
       "    </tr>\n",
       "    <tr>\n",
       "      <th>7</th>\n",
       "      <td>32733640.T18.T31</td>\n",
       "      <td>Western blot analysis revealed that @CHEMICAL$...</td>\n",
       "      <td>32733640</td>\n",
       "      <td>T18</td>\n",
       "      <td>T31</td>\n",
       "      <td>INDIRECT-DOWNREGULATOR</td>\n",
       "      <td>T18</td>\n",
       "      <td>T31</td>\n",
       "    </tr>\n",
       "    <tr>\n",
       "      <th>9</th>\n",
       "      <td>32733640.T18.T33</td>\n",
       "      <td>Western blot analysis revealed that @CHEMICAL$...</td>\n",
       "      <td>32733640</td>\n",
       "      <td>T18</td>\n",
       "      <td>T33</td>\n",
       "      <td>INDIRECT-DOWNREGULATOR</td>\n",
       "      <td>T18</td>\n",
       "      <td>T33</td>\n",
       "    </tr>\n",
       "    <tr>\n",
       "      <th>10</th>\n",
       "      <td>32733640.T18.T34</td>\n",
       "      <td>Western blot analysis revealed that @CHEMICAL$...</td>\n",
       "      <td>32733640</td>\n",
       "      <td>T18</td>\n",
       "      <td>T34</td>\n",
       "      <td>INDIRECT-UPREGULATOR</td>\n",
       "      <td>T18</td>\n",
       "      <td>T34</td>\n",
       "    </tr>\n",
       "    <tr>\n",
       "      <th>11</th>\n",
       "      <td>32733640.T18.T35</td>\n",
       "      <td>Western blot analysis revealed that @CHEMICAL$...</td>\n",
       "      <td>32733640</td>\n",
       "      <td>T18</td>\n",
       "      <td>T35</td>\n",
       "      <td>INDIRECT-UPREGULATOR</td>\n",
       "      <td>T18</td>\n",
       "      <td>T35</td>\n",
       "    </tr>\n",
       "  </tbody>\n",
       "</table>\n",
       "</div>"
      ],
      "text/plain": [
       "           pmid_vals                                           sentence  \\\n",
       "6   32733640.T17.T30  In moderately injured P19 neuronal cells, conc...   \n",
       "7   32733640.T18.T31  Western blot analysis revealed that @CHEMICAL$...   \n",
       "9   32733640.T18.T33  Western blot analysis revealed that @CHEMICAL$...   \n",
       "10  32733640.T18.T34  Western blot analysis revealed that @CHEMICAL$...   \n",
       "11  32733640.T18.T35  Western blot analysis revealed that @CHEMICAL$...   \n",
       "\n",
       "        PMID arg1 arg2                   label new_arg1 new_arg2  \n",
       "6   32733640  T17  T30               INHIBITOR      T17      T30  \n",
       "7   32733640  T18  T31  INDIRECT-DOWNREGULATOR      T18      T31  \n",
       "9   32733640  T18  T33  INDIRECT-DOWNREGULATOR      T18      T33  \n",
       "10  32733640  T18  T34    INDIRECT-UPREGULATOR      T18      T34  \n",
       "11  32733640  T18  T35    INDIRECT-UPREGULATOR      T18      T35  "
      ]
     },
     "execution_count": 21,
     "metadata": {},
     "output_type": "execute_result"
    }
   ],
   "source": [
    "df_tosubmit.head()"
   ]
  },
  {
   "cell_type": "code",
   "execution_count": 22,
   "metadata": {},
   "outputs": [
    {
     "name": "stderr",
     "output_type": "stream",
     "text": [
      "/usr/local/lib/python3.6/dist-packages/ipykernel_launcher.py:1: SettingWithCopyWarning: \n",
      "A value is trying to be set on a copy of a slice from a DataFrame.\n",
      "Try using .loc[row_indexer,col_indexer] = value instead\n",
      "\n",
      "See the caveats in the documentation: https://pandas.pydata.org/pandas-docs/stable/user_guide/indexing.html#returning-a-view-versus-a-copy\n",
      "  \"\"\"Entry point for launching an IPython kernel.\n",
      "/usr/local/lib/python3.6/dist-packages/ipykernel_launcher.py:2: SettingWithCopyWarning: \n",
      "A value is trying to be set on a copy of a slice from a DataFrame.\n",
      "Try using .loc[row_indexer,col_indexer] = value instead\n",
      "\n",
      "See the caveats in the documentation: https://pandas.pydata.org/pandas-docs/stable/user_guide/indexing.html#returning-a-view-versus-a-copy\n",
      "  \n"
     ]
    }
   ],
   "source": [
    "df_tosubmit[\"new_arg1\"] = new_arg1\n",
    "df_tosubmit[\"new_arg2\"] = new_arg2"
   ]
  },
  {
   "cell_type": "code",
   "execution_count": 23,
   "metadata": {},
   "outputs": [
    {
     "name": "stderr",
     "output_type": "stream",
     "text": [
      "/usr/local/lib/python3.6/dist-packages/ipykernel_launcher.py:1: SettingWithCopyWarning: \n",
      "A value is trying to be set on a copy of a slice from a DataFrame.\n",
      "Try using .loc[row_indexer,col_indexer] = value instead\n",
      "\n",
      "See the caveats in the documentation: https://pandas.pydata.org/pandas-docs/stable/user_guide/indexing.html#returning-a-view-versus-a-copy\n",
      "  \"\"\"Entry point for launching an IPython kernel.\n",
      "/usr/local/lib/python3.6/dist-packages/ipykernel_launcher.py:2: SettingWithCopyWarning: \n",
      "A value is trying to be set on a copy of a slice from a DataFrame.\n",
      "Try using .loc[row_indexer,col_indexer] = value instead\n",
      "\n",
      "See the caveats in the documentation: https://pandas.pydata.org/pandas-docs/stable/user_guide/indexing.html#returning-a-view-versus-a-copy\n",
      "  \n"
     ]
    }
   ],
   "source": [
    "df_tosubmit[\"new_arg1\"] = \"Arg1:\"+ df_tosubmit[\"new_arg1\"]\n",
    "df_tosubmit[\"new_arg2\"] = \"Arg2:\"+ df_tosubmit[\"new_arg2\"]"
   ]
  },
  {
   "cell_type": "code",
   "execution_count": 24,
   "metadata": {},
   "outputs": [],
   "source": [
    "df_final = df_tosubmit[['PMID','label', 'new_arg1','new_arg2']]"
   ]
  },
  {
   "cell_type": "code",
   "execution_count": 26,
   "metadata": {},
   "outputs": [],
   "source": [
    "df_final.to_csv(\"test_submission_sep15/pubmertbert.tsv\", sep=\"\\t\", index=False, header=None)"
   ]
  },
  {
   "cell_type": "code",
   "execution_count": null,
   "metadata": {},
   "outputs": [],
   "source": []
  }
 ],
 "metadata": {
  "kernelspec": {
   "display_name": "Python 3",
   "language": "python",
   "name": "python3"
  },
  "language_info": {
   "codemirror_mode": {
    "name": "ipython",
    "version": 3
   },
   "file_extension": ".py",
   "mimetype": "text/x-python",
   "name": "python",
   "nbconvert_exporter": "python",
   "pygments_lexer": "ipython3",
   "version": "3.6.9"
  }
 },
 "nbformat": 4,
 "nbformat_minor": 2
}
