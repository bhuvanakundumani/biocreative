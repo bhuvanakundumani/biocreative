{
 "cells": [
  {
   "cell_type": "code",
   "execution_count": 32,
   "metadata": {},
   "outputs": [],
   "source": [
    "import pandas as pd"
   ]
  },
  {
   "cell_type": "code",
   "execution_count": 33,
   "metadata": {},
   "outputs": [],
   "source": [
    "cols = [\"index\", \"sentence\", \"label\"]"
   ]
  },
  {
   "cell_type": "code",
   "execution_count": 34,
   "metadata": {},
   "outputs": [
    {
     "data": {
      "text/plain": [
       "(18035, 3)"
      ]
     },
     "execution_count": 34,
     "metadata": {},
     "output_type": "execute_result"
    }
   ],
   "source": [
    "df_trainchemprot = pd.read_csv(\"processed_chemprotdata/train.tsv\", sep='\\t', names=cols)\n",
    "df_trainchemprot.shape"
   ]
  },
  {
   "cell_type": "code",
   "execution_count": 35,
   "metadata": {},
   "outputs": [
    {
     "data": {
      "text/plain": [
       "'Recent studies have provided consistent evidence that treatment with abatacept results in a rapid onset of efficacy that is maintained over the course of treatment in patients with inadequate response to @CHEMICAL$ and anti-@GENE$ therapies.'"
      ]
     },
     "execution_count": 35,
     "metadata": {},
     "output_type": "execute_result"
    }
   ],
   "source": [
    "df_trainchemprot .iloc[0][\"sentence\"]\n"
   ]
  },
  {
   "cell_type": "code",
   "execution_count": 36,
   "metadata": {},
   "outputs": [
    {
     "data": {
      "text/html": [
       "<div>\n",
       "<style scoped>\n",
       "    .dataframe tbody tr th:only-of-type {\n",
       "        vertical-align: middle;\n",
       "    }\n",
       "\n",
       "    .dataframe tbody tr th {\n",
       "        vertical-align: top;\n",
       "    }\n",
       "\n",
       "    .dataframe thead th {\n",
       "        text-align: right;\n",
       "    }\n",
       "</style>\n",
       "<table border=\"1\" class=\"dataframe\">\n",
       "  <thead>\n",
       "    <tr style=\"text-align: right;\">\n",
       "      <th></th>\n",
       "      <th>index</th>\n",
       "      <th>sentence</th>\n",
       "      <th>label</th>\n",
       "    </tr>\n",
       "  </thead>\n",
       "  <tbody>\n",
       "    <tr>\n",
       "      <th>0</th>\n",
       "      <td>16357751.T1.T2</td>\n",
       "      <td>Recent studies have provided consistent eviden...</td>\n",
       "      <td>false</td>\n",
       "    </tr>\n",
       "    <tr>\n",
       "      <th>1</th>\n",
       "      <td>14967461.T22.T1</td>\n",
       "      <td>@GENE$ inhibitors currently under investigatio...</td>\n",
       "      <td>INHIBITOR</td>\n",
       "    </tr>\n",
       "    <tr>\n",
       "      <th>2</th>\n",
       "      <td>14967461.T22.T2</td>\n",
       "      <td>@GENE$ inhibitors currently under investigatio...</td>\n",
       "      <td>INHIBITOR</td>\n",
       "    </tr>\n",
       "    <tr>\n",
       "      <th>3</th>\n",
       "      <td>14967461.T22.T3</td>\n",
       "      <td>@GENE$ inhibitors currently under investigatio...</td>\n",
       "      <td>INHIBITOR</td>\n",
       "    </tr>\n",
       "    <tr>\n",
       "      <th>4</th>\n",
       "      <td>14967461.T22.T4</td>\n",
       "      <td>@GENE$ inhibitors currently under investigatio...</td>\n",
       "      <td>INHIBITOR</td>\n",
       "    </tr>\n",
       "    <tr>\n",
       "      <th>5</th>\n",
       "      <td>14967461.T22.T5</td>\n",
       "      <td>@GENE$ inhibitors currently under investigatio...</td>\n",
       "      <td>INHIBITOR</td>\n",
       "    </tr>\n",
       "    <tr>\n",
       "      <th>6</th>\n",
       "      <td>14967461.T22.T6</td>\n",
       "      <td>@GENE$ inhibitors currently under investigatio...</td>\n",
       "      <td>INHIBITOR</td>\n",
       "    </tr>\n",
       "    <tr>\n",
       "      <th>7</th>\n",
       "      <td>14967461.T22.T7</td>\n",
       "      <td>@GENE$ inhibitors currently under investigatio...</td>\n",
       "      <td>INHIBITOR</td>\n",
       "    </tr>\n",
       "    <tr>\n",
       "      <th>8</th>\n",
       "      <td>14967461.T22.T8</td>\n",
       "      <td>@GENE$ inhibitors currently under investigatio...</td>\n",
       "      <td>INHIBITOR</td>\n",
       "    </tr>\n",
       "    <tr>\n",
       "      <th>9</th>\n",
       "      <td>14967461.T22.T9</td>\n",
       "      <td>@GENE$ inhibitors currently under investigatio...</td>\n",
       "      <td>INHIBITOR</td>\n",
       "    </tr>\n",
       "  </tbody>\n",
       "</table>\n",
       "</div>"
      ],
      "text/plain": [
       "             index                                           sentence  \\\n",
       "0   16357751.T1.T2  Recent studies have provided consistent eviden...   \n",
       "1  14967461.T22.T1  @GENE$ inhibitors currently under investigatio...   \n",
       "2  14967461.T22.T2  @GENE$ inhibitors currently under investigatio...   \n",
       "3  14967461.T22.T3  @GENE$ inhibitors currently under investigatio...   \n",
       "4  14967461.T22.T4  @GENE$ inhibitors currently under investigatio...   \n",
       "5  14967461.T22.T5  @GENE$ inhibitors currently under investigatio...   \n",
       "6  14967461.T22.T6  @GENE$ inhibitors currently under investigatio...   \n",
       "7  14967461.T22.T7  @GENE$ inhibitors currently under investigatio...   \n",
       "8  14967461.T22.T8  @GENE$ inhibitors currently under investigatio...   \n",
       "9  14967461.T22.T9  @GENE$ inhibitors currently under investigatio...   \n",
       "\n",
       "       label  \n",
       "0      false  \n",
       "1  INHIBITOR  \n",
       "2  INHIBITOR  \n",
       "3  INHIBITOR  \n",
       "4  INHIBITOR  \n",
       "5  INHIBITOR  \n",
       "6  INHIBITOR  \n",
       "7  INHIBITOR  \n",
       "8  INHIBITOR  \n",
       "9  INHIBITOR  "
      ]
     },
     "execution_count": 36,
     "metadata": {},
     "output_type": "execute_result"
    }
   ],
   "source": [
    "df_trainchemprot .head(10)\n",
    "\n"
   ]
  },
  {
   "cell_type": "code",
   "execution_count": 37,
   "metadata": {},
   "outputs": [
    {
     "data": {
      "text/plain": [
       "'@GENE$ inhibitors currently under investigation include the small molecules @CHEMICAL$ (Iressa, ZD1839) and erlotinib (Tarceva, OSI-774), as well as monoclonal antibodies such as cetuximab (IMC-225, Erbitux).'"
      ]
     },
     "execution_count": 37,
     "metadata": {},
     "output_type": "execute_result"
    }
   ],
   "source": [
    "df_trainchemprot .iloc[1][\"sentence\"]\n"
   ]
  },
  {
   "cell_type": "code",
   "execution_count": 38,
   "metadata": {},
   "outputs": [
    {
     "data": {
      "text/plain": [
       "(11268, 3)"
      ]
     },
     "execution_count": 38,
     "metadata": {},
     "output_type": "execute_result"
    }
   ],
   "source": [
    "df_validchemprot = pd.read_csv(\"processed_chemprotdata/dev.tsv\", sep='\\t', names=cols)\n",
    "df_validchemprot.shape"
   ]
  },
  {
   "cell_type": "code",
   "execution_count": 39,
   "metadata": {},
   "outputs": [
    {
     "data": {
      "text/html": [
       "<div>\n",
       "<style scoped>\n",
       "    .dataframe tbody tr th:only-of-type {\n",
       "        vertical-align: middle;\n",
       "    }\n",
       "\n",
       "    .dataframe tbody tr th {\n",
       "        vertical-align: top;\n",
       "    }\n",
       "\n",
       "    .dataframe thead th {\n",
       "        text-align: right;\n",
       "    }\n",
       "</style>\n",
       "<table border=\"1\" class=\"dataframe\">\n",
       "  <thead>\n",
       "    <tr style=\"text-align: right;\">\n",
       "      <th></th>\n",
       "      <th>index</th>\n",
       "      <th>sentence</th>\n",
       "      <th>label</th>\n",
       "    </tr>\n",
       "  </thead>\n",
       "  <tbody>\n",
       "    <tr>\n",
       "      <th>0</th>\n",
       "      <td>10064839.T56.T49</td>\n",
       "      <td>Binding of dimemorfan to @GENE$ and its antico...</td>\n",
       "      <td>false</td>\n",
       "    </tr>\n",
       "    <tr>\n",
       "      <th>1</th>\n",
       "      <td>10064839.T50.T56</td>\n",
       "      <td>Binding of @CHEMICAL$ to @GENE$ and its antico...</td>\n",
       "      <td>DIRECT-REGULATOR</td>\n",
       "    </tr>\n",
       "    <tr>\n",
       "      <th>2</th>\n",
       "      <td>10064839.T56.T51</td>\n",
       "      <td>Binding of dimemorfan to @GENE$ and its antico...</td>\n",
       "      <td>false</td>\n",
       "    </tr>\n",
       "    <tr>\n",
       "      <th>3</th>\n",
       "      <td>10064839.T40.T52</td>\n",
       "      <td>This study therefore characterized the binding...</td>\n",
       "      <td>false</td>\n",
       "    </tr>\n",
       "    <tr>\n",
       "      <th>4</th>\n",
       "      <td>10064839.T40.T54</td>\n",
       "      <td>This study therefore characterized the binding...</td>\n",
       "      <td>DIRECT-REGULATOR</td>\n",
       "    </tr>\n",
       "  </tbody>\n",
       "</table>\n",
       "</div>"
      ],
      "text/plain": [
       "              index                                           sentence  \\\n",
       "0  10064839.T56.T49  Binding of dimemorfan to @GENE$ and its antico...   \n",
       "1  10064839.T50.T56  Binding of @CHEMICAL$ to @GENE$ and its antico...   \n",
       "2  10064839.T56.T51  Binding of dimemorfan to @GENE$ and its antico...   \n",
       "3  10064839.T40.T52  This study therefore characterized the binding...   \n",
       "4  10064839.T40.T54  This study therefore characterized the binding...   \n",
       "\n",
       "              label  \n",
       "0             false  \n",
       "1  DIRECT-REGULATOR  \n",
       "2             false  \n",
       "3             false  \n",
       "4  DIRECT-REGULATOR  "
      ]
     },
     "execution_count": 39,
     "metadata": {},
     "output_type": "execute_result"
    }
   ],
   "source": [
    "df_validchemprot.head()"
   ]
  },
  {
   "cell_type": "code",
   "execution_count": 40,
   "metadata": {},
   "outputs": [
    {
     "data": {
      "text/plain": [
       "(15745, 3)"
      ]
     },
     "execution_count": 40,
     "metadata": {},
     "output_type": "execute_result"
    }
   ],
   "source": [
    "df_testchemprot = pd.read_csv(\"processed_chemprotdata/test.tsv\", sep='\\t', names=cols)\n",
    "df_testchemprot.shape"
   ]
  },
  {
   "cell_type": "code",
   "execution_count": 41,
   "metadata": {},
   "outputs": [
    {
     "data": {
      "text/html": [
       "<div>\n",
       "<style scoped>\n",
       "    .dataframe tbody tr th:only-of-type {\n",
       "        vertical-align: middle;\n",
       "    }\n",
       "\n",
       "    .dataframe tbody tr th {\n",
       "        vertical-align: top;\n",
       "    }\n",
       "\n",
       "    .dataframe thead th {\n",
       "        text-align: right;\n",
       "    }\n",
       "</style>\n",
       "<table border=\"1\" class=\"dataframe\">\n",
       "  <thead>\n",
       "    <tr style=\"text-align: right;\">\n",
       "      <th></th>\n",
       "      <th>index</th>\n",
       "      <th>sentence</th>\n",
       "      <th>label</th>\n",
       "    </tr>\n",
       "  </thead>\n",
       "  <tbody>\n",
       "    <tr>\n",
       "      <th>0</th>\n",
       "      <td>10076535.T44.T63</td>\n",
       "      <td>@CHEMICAL$ antagonistic effect of estramustine...</td>\n",
       "      <td>ANTAGONIST</td>\n",
       "    </tr>\n",
       "    <tr>\n",
       "      <th>1</th>\n",
       "      <td>10076535.T45.T63</td>\n",
       "      <td>Androgen antagonistic effect of @CHEMICAL$ (EM...</td>\n",
       "      <td>ANTAGONIST</td>\n",
       "    </tr>\n",
       "    <tr>\n",
       "      <th>2</th>\n",
       "      <td>10076535.T46.T63</td>\n",
       "      <td>Androgen antagonistic effect of estramustine p...</td>\n",
       "      <td>ANTAGONIST</td>\n",
       "    </tr>\n",
       "    <tr>\n",
       "      <th>3</th>\n",
       "      <td>10076535.T63.T47</td>\n",
       "      <td>Androgen antagonistic effect of estramustine p...</td>\n",
       "      <td>false</td>\n",
       "    </tr>\n",
       "    <tr>\n",
       "      <th>4</th>\n",
       "      <td>10076535.T32.T59</td>\n",
       "      <td>We investigated, by displacement of @CHEMICAL$...</td>\n",
       "      <td>false</td>\n",
       "    </tr>\n",
       "  </tbody>\n",
       "</table>\n",
       "</div>"
      ],
      "text/plain": [
       "              index                                           sentence  \\\n",
       "0  10076535.T44.T63  @CHEMICAL$ antagonistic effect of estramustine...   \n",
       "1  10076535.T45.T63  Androgen antagonistic effect of @CHEMICAL$ (EM...   \n",
       "2  10076535.T46.T63  Androgen antagonistic effect of estramustine p...   \n",
       "3  10076535.T63.T47  Androgen antagonistic effect of estramustine p...   \n",
       "4  10076535.T32.T59  We investigated, by displacement of @CHEMICAL$...   \n",
       "\n",
       "        label  \n",
       "0  ANTAGONIST  \n",
       "1  ANTAGONIST  \n",
       "2  ANTAGONIST  \n",
       "3       false  \n",
       "4       false  "
      ]
     },
     "execution_count": 41,
     "metadata": {},
     "output_type": "execute_result"
    }
   ],
   "source": [
    "df_testchemprot.head(5)"
   ]
  },
  {
   "cell_type": "code",
   "execution_count": 42,
   "metadata": {},
   "outputs": [],
   "source": [
    "df_chemprot = pd.concat([df_trainchemprot, df_validchemprot, df_testchemprot],  ignore_index=True)"
   ]
  },
  {
   "cell_type": "code",
   "execution_count": 43,
   "metadata": {},
   "outputs": [
    {
     "data": {
      "text/plain": [
       "(45048, 3)"
      ]
     },
     "execution_count": 43,
     "metadata": {},
     "output_type": "execute_result"
    }
   ],
   "source": [
    "df_chemprot.shape"
   ]
  },
  {
   "cell_type": "code",
   "execution_count": 44,
   "metadata": {},
   "outputs": [],
   "source": [
    "label_list = df_chemprot['label'].unique()"
   ]
  },
  {
   "cell_type": "code",
   "execution_count": 45,
   "metadata": {},
   "outputs": [
    {
     "data": {
      "text/plain": [
       "14"
      ]
     },
     "execution_count": 45,
     "metadata": {},
     "output_type": "execute_result"
    }
   ],
   "source": [
    "len(label_list)"
   ]
  },
  {
   "cell_type": "code",
   "execution_count": 46,
   "metadata": {},
   "outputs": [],
   "source": [
    "label_list.sort()"
   ]
  },
  {
   "cell_type": "code",
   "execution_count": 47,
   "metadata": {},
   "outputs": [
    {
     "data": {
      "text/plain": [
       "array(['ACTIVATOR', 'AGONIST', 'AGONIST-ACTIVATOR', 'AGONIST-INHIBITOR',\n",
       "       'ANTAGONIST', 'DIRECT-REGULATOR', 'INDIRECT-DOWNREGULATOR',\n",
       "       'INDIRECT-UPREGULATOR', 'INHIBITOR', 'PART-OF', 'PRODUCT-OF',\n",
       "       'SUBSTRATE', 'SUBSTRATE_PRODUCT-OF', 'false'], dtype=object)"
      ]
     },
     "execution_count": 47,
     "metadata": {},
     "output_type": "execute_result"
    }
   ],
   "source": [
    "label_list"
   ]
  },
  {
   "cell_type": "code",
   "execution_count": 48,
   "metadata": {},
   "outputs": [],
   "source": [
    "df_train = pd.read_csv(\"processed_data/train.tsv\", sep='\\t', names=cols)\n"
   ]
  },
  {
   "cell_type": "code",
   "execution_count": 49,
   "metadata": {},
   "outputs": [],
   "source": [
    "label_list1 = df_train['label'].unique()"
   ]
  },
  {
   "cell_type": "code",
   "execution_count": 50,
   "metadata": {},
   "outputs": [],
   "source": [
    "label_list1.sort()"
   ]
  },
  {
   "cell_type": "code",
   "execution_count": 51,
   "metadata": {},
   "outputs": [
    {
     "data": {
      "text/plain": [
       "array(['ACTIVATOR', 'AGONIST', 'AGONIST-ACTIVATOR', 'AGONIST-INHIBITOR',\n",
       "       'ANTAGONIST', 'DIRECT-REGULATOR', 'INDIRECT-DOWNREGULATOR',\n",
       "       'INDIRECT-UPREGULATOR', 'INHIBITOR', 'PART-OF', 'PRODUCT-OF',\n",
       "       'SUBSTRATE', 'SUBSTRATE_PRODUCT-OF', 'false'], dtype=object)"
      ]
     },
     "execution_count": 51,
     "metadata": {},
     "output_type": "execute_result"
    }
   ],
   "source": [
    "label_list1"
   ]
  },
  {
   "cell_type": "code",
   "execution_count": null,
   "metadata": {},
   "outputs": [],
   "source": []
  },
  {
   "cell_type": "code",
   "execution_count": null,
   "metadata": {},
   "outputs": [],
   "source": []
  }
 ],
 "metadata": {
  "kernelspec": {
   "display_name": "Python 3",
   "language": "python",
   "name": "python3"
  },
  "language_info": {
   "codemirror_mode": {
    "name": "ipython",
    "version": 3
   },
   "file_extension": ".py",
   "mimetype": "text/x-python",
   "name": "python",
   "nbconvert_exporter": "python",
   "pygments_lexer": "ipython3",
   "version": "3.6.9"
  }
 },
 "nbformat": 4,
 "nbformat_minor": 2
}
