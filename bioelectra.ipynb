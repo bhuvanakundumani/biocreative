{
 "cells": [
  {
   "cell_type": "code",
   "execution_count": 1,
   "metadata": {},
   "outputs": [],
   "source": [
    "import pandas as pd\n",
    "\n",
    "import pickle\n",
    "from tqdm import tqdm"
   ]
  },
  {
   "cell_type": "code",
   "execution_count": 2,
   "metadata": {},
   "outputs": [],
   "source": [
    "test_pred = pickle.load(open(\"model_sep14_bioelectra_5lr_5epochs/bioelectrapreds.pkl\", \"rb\"))"
   ]
  },
  {
   "cell_type": "code",
   "execution_count": 3,
   "metadata": {},
   "outputs": [],
   "source": [
    "label_map = {'ACTIVATOR': 0, 'AGONIST': 1, 'AGONIST-ACTIVATOR': 2, 'AGONIST-INHIBITOR': 3, 'ANTAGONIST': 4,\n",
    " 'DIRECT-REGULATOR': 5, 'INDIRECT-DOWNREGULATOR': 6, 'INDIRECT-UPREGULATOR': 7, 'INHIBITOR': 8,\n",
    " 'PART-OF': 9, 'PRODUCT-OF': 10, 'SUBSTRATE': 11, 'SUBSTRATE_PRODUCT-OF': 12, 'false': 13}"
   ]
  },
  {
   "cell_type": "code",
   "execution_count": 4,
   "metadata": {},
   "outputs": [
    {
     "data": {
      "text/plain": [
       "{0: 'ACTIVATOR',\n",
       " 1: 'AGONIST',\n",
       " 2: 'AGONIST-ACTIVATOR',\n",
       " 3: 'AGONIST-INHIBITOR',\n",
       " 4: 'ANTAGONIST',\n",
       " 5: 'DIRECT-REGULATOR',\n",
       " 6: 'INDIRECT-DOWNREGULATOR',\n",
       " 7: 'INDIRECT-UPREGULATOR',\n",
       " 8: 'INHIBITOR',\n",
       " 9: 'PART-OF',\n",
       " 10: 'PRODUCT-OF',\n",
       " 11: 'SUBSTRATE',\n",
       " 12: 'SUBSTRATE_PRODUCT-OF',\n",
       " 13: 'false'}"
      ]
     },
     "execution_count": 4,
     "metadata": {},
     "output_type": "execute_result"
    }
   ],
   "source": [
    "label_map_index = { label_map[i]:i for i in label_map}\n",
    "label_map_index"
   ]
  },
  {
   "cell_type": "code",
   "execution_count": 5,
   "metadata": {},
   "outputs": [],
   "source": [
    "test_pred_map = []\n",
    "for pred in test_pred:\n",
    "    test_pred_map.append(label_map_index[pred])\n"
   ]
  },
  {
   "cell_type": "code",
   "execution_count": 6,
   "metadata": {},
   "outputs": [],
   "source": [
    "cols = ['pmid_vals', 'sentence']\n",
    "df_test = pd.read_csv(\"processed_data/test.tsv\", sep='\\t', names=cols)"
   ]
  },
  {
   "cell_type": "code",
   "execution_count": 7,
   "metadata": {},
   "outputs": [],
   "source": [
    "df_test[['PMID','arg1', 'arg2']] = df_test.pmid_vals.str.split(\".\",expand=True)"
   ]
  },
  {
   "cell_type": "code",
   "execution_count": 8,
   "metadata": {},
   "outputs": [],
   "source": [
    "df_test['label'] = test_pred_map "
   ]
  },
  {
   "cell_type": "code",
   "execution_count": 9,
   "metadata": {},
   "outputs": [],
   "source": [
    "df_tosubmit = df_test[df_test['label'] != 'false']"
   ]
  },
  {
   "cell_type": "code",
   "execution_count": 10,
   "metadata": {},
   "outputs": [
    {
     "data": {
      "text/html": [
       "<div>\n",
       "<style scoped>\n",
       "    .dataframe tbody tr th:only-of-type {\n",
       "        vertical-align: middle;\n",
       "    }\n",
       "\n",
       "    .dataframe tbody tr th {\n",
       "        vertical-align: top;\n",
       "    }\n",
       "\n",
       "    .dataframe thead th {\n",
       "        text-align: right;\n",
       "    }\n",
       "</style>\n",
       "<table border=\"1\" class=\"dataframe\">\n",
       "  <thead>\n",
       "    <tr style=\"text-align: right;\">\n",
       "      <th></th>\n",
       "      <th>pmid_vals</th>\n",
       "      <th>sentence</th>\n",
       "      <th>PMID</th>\n",
       "      <th>arg1</th>\n",
       "      <th>arg2</th>\n",
       "      <th>label</th>\n",
       "    </tr>\n",
       "  </thead>\n",
       "  <tbody>\n",
       "    <tr>\n",
       "      <th>6</th>\n",
       "      <td>32733640.T17.T30</td>\n",
       "      <td>In moderately injured P19 neuronal cells, conc...</td>\n",
       "      <td>32733640</td>\n",
       "      <td>T17</td>\n",
       "      <td>T30</td>\n",
       "      <td>INHIBITOR</td>\n",
       "    </tr>\n",
       "    <tr>\n",
       "      <th>8</th>\n",
       "      <td>32733640.T18.T32</td>\n",
       "      <td>Western blot analysis revealed that @CHEMICAL$...</td>\n",
       "      <td>32733640</td>\n",
       "      <td>T18</td>\n",
       "      <td>T32</td>\n",
       "      <td>INDIRECT-DOWNREGULATOR</td>\n",
       "    </tr>\n",
       "    <tr>\n",
       "      <th>9</th>\n",
       "      <td>32733640.T18.T33</td>\n",
       "      <td>Western blot analysis revealed that @CHEMICAL$...</td>\n",
       "      <td>32733640</td>\n",
       "      <td>T18</td>\n",
       "      <td>T33</td>\n",
       "      <td>INDIRECT-DOWNREGULATOR</td>\n",
       "    </tr>\n",
       "    <tr>\n",
       "      <th>10</th>\n",
       "      <td>32733640.T18.T34</td>\n",
       "      <td>Western blot analysis revealed that @CHEMICAL$...</td>\n",
       "      <td>32733640</td>\n",
       "      <td>T18</td>\n",
       "      <td>T34</td>\n",
       "      <td>INDIRECT-UPREGULATOR</td>\n",
       "    </tr>\n",
       "    <tr>\n",
       "      <th>11</th>\n",
       "      <td>32733640.T18.T35</td>\n",
       "      <td>Western blot analysis revealed that @CHEMICAL$...</td>\n",
       "      <td>32733640</td>\n",
       "      <td>T18</td>\n",
       "      <td>T35</td>\n",
       "      <td>INDIRECT-UPREGULATOR</td>\n",
       "    </tr>\n",
       "  </tbody>\n",
       "</table>\n",
       "</div>"
      ],
      "text/plain": [
       "           pmid_vals                                           sentence  \\\n",
       "6   32733640.T17.T30  In moderately injured P19 neuronal cells, conc...   \n",
       "8   32733640.T18.T32  Western blot analysis revealed that @CHEMICAL$...   \n",
       "9   32733640.T18.T33  Western blot analysis revealed that @CHEMICAL$...   \n",
       "10  32733640.T18.T34  Western blot analysis revealed that @CHEMICAL$...   \n",
       "11  32733640.T18.T35  Western blot analysis revealed that @CHEMICAL$...   \n",
       "\n",
       "        PMID arg1 arg2                   label  \n",
       "6   32733640  T17  T30               INHIBITOR  \n",
       "8   32733640  T18  T32  INDIRECT-DOWNREGULATOR  \n",
       "9   32733640  T18  T33  INDIRECT-DOWNREGULATOR  \n",
       "10  32733640  T18  T34    INDIRECT-UPREGULATOR  \n",
       "11  32733640  T18  T35    INDIRECT-UPREGULATOR  "
      ]
     },
     "execution_count": 10,
     "metadata": {},
     "output_type": "execute_result"
    }
   ],
   "source": [
    "df_tosubmit.head() "
   ]
  },
  {
   "cell_type": "code",
   "execution_count": 11,
   "metadata": {},
   "outputs": [
    {
     "data": {
      "text/plain": [
       "(65489, 6)"
      ]
     },
     "execution_count": 11,
     "metadata": {},
     "output_type": "execute_result"
    }
   ],
   "source": [
    "df_tosubmit.shape"
   ]
  },
  {
   "cell_type": "code",
   "execution_count": 12,
   "metadata": {},
   "outputs": [],
   "source": [
    "pmid = df_tosubmit.PMID.tolist()\n",
    "arg1 = df_tosubmit.arg1.tolist()\n",
    "arg2 = df_tosubmit.arg2.tolist()"
   ]
  },
  {
   "cell_type": "code",
   "execution_count": 13,
   "metadata": {},
   "outputs": [
    {
     "data": {
      "text/plain": [
       "65489"
      ]
     },
     "execution_count": 13,
     "metadata": {},
     "output_type": "execute_result"
    }
   ],
   "source": [
    "len(pmid)"
   ]
  },
  {
   "cell_type": "code",
   "execution_count": 14,
   "metadata": {},
   "outputs": [],
   "source": [
    "file = \"drugprot-gs-training-development/test-background/test_background_entities.tsv\"\n",
    "text = open(file).read().splitlines()\n",
    "\n",
    "data = [x.split(\"\\t\") for x in text]\n",
    "df_test_entities = pd.DataFrame(data, columns= [\"PMID\", \"arg\", \"entity\", \"start\", \"end\", \"name\"])\n"
   ]
  },
  {
   "cell_type": "code",
   "execution_count": 15,
   "metadata": {},
   "outputs": [
    {
     "data": {
      "text/plain": [
       "PMID      0\n",
       "arg       0\n",
       "entity    0\n",
       "start     0\n",
       "end       0\n",
       "name      0\n",
       "dtype: int64"
      ]
     },
     "execution_count": 15,
     "metadata": {},
     "output_type": "execute_result"
    }
   ],
   "source": [
    "df_test_entities.isnull().sum()\n"
   ]
  },
  {
   "cell_type": "code",
   "execution_count": 16,
   "metadata": {},
   "outputs": [
    {
     "name": "stderr",
     "output_type": "stream",
     "text": [
      "100%|██████████| 65489/65489 [39:31<00:00, 27.61it/s]\n"
     ]
    }
   ],
   "source": [
    "new_arg1 = []\n",
    "new_arg2 = []\n",
    "for i in tqdm(range(len(pmid))):\n",
    "#for i in range(100):\n",
    "    check_entity = df_test_entities[(df_test_entities['PMID'] == pmid[i]) & (df_test_entities['arg'] == arg1[i])]['entity']\n",
    "    #print(type(check_entity))\n",
    "    if check_entity.values == 'GENE':\n",
    "        new_arg1.append(arg2[i])\n",
    "        new_arg2.append(arg1[i])\n",
    "    else:\n",
    "        new_arg1.append(arg1[i])\n",
    "        new_arg2.append(arg2[i])\n"
   ]
  },
  {
   "cell_type": "code",
   "execution_count": 24,
   "metadata": {
    "scrolled": true
   },
   "outputs": [
    {
     "data": {
      "text/plain": [
       "(65489, 8)"
      ]
     },
     "execution_count": 24,
     "metadata": {},
     "output_type": "execute_result"
    }
   ],
   "source": [
    "df_tosubmit.shape"
   ]
  },
  {
   "cell_type": "code",
   "execution_count": 22,
   "metadata": {},
   "outputs": [
    {
     "data": {
      "text/plain": [
       "65489"
      ]
     },
     "execution_count": 22,
     "metadata": {},
     "output_type": "execute_result"
    }
   ],
   "source": [
    "len(new_arg1)"
   ]
  },
  {
   "cell_type": "code",
   "execution_count": 19,
   "metadata": {
    "scrolled": true
   },
   "outputs": [
    {
     "name": "stderr",
     "output_type": "stream",
     "text": [
      "/usr/local/lib/python3.6/dist-packages/ipykernel_launcher.py:1: SettingWithCopyWarning: \n",
      "A value is trying to be set on a copy of a slice from a DataFrame.\n",
      "Try using .loc[row_indexer,col_indexer] = value instead\n",
      "\n",
      "See the caveats in the documentation: https://pandas.pydata.org/pandas-docs/stable/user_guide/indexing.html#returning-a-view-versus-a-copy\n",
      "  \"\"\"Entry point for launching an IPython kernel.\n",
      "/usr/local/lib/python3.6/dist-packages/ipykernel_launcher.py:2: SettingWithCopyWarning: \n",
      "A value is trying to be set on a copy of a slice from a DataFrame.\n",
      "Try using .loc[row_indexer,col_indexer] = value instead\n",
      "\n",
      "See the caveats in the documentation: https://pandas.pydata.org/pandas-docs/stable/user_guide/indexing.html#returning-a-view-versus-a-copy\n",
      "  \n"
     ]
    }
   ],
   "source": [
    "df_tosubmit[\"new_arg1\"] = new_arg1\n",
    "df_tosubmit[\"new_arg2\"] = new_arg2"
   ]
  },
  {
   "cell_type": "code",
   "execution_count": 26,
   "metadata": {},
   "outputs": [
    {
     "data": {
      "text/html": [
       "<div>\n",
       "<style scoped>\n",
       "    .dataframe tbody tr th:only-of-type {\n",
       "        vertical-align: middle;\n",
       "    }\n",
       "\n",
       "    .dataframe tbody tr th {\n",
       "        vertical-align: top;\n",
       "    }\n",
       "\n",
       "    .dataframe thead th {\n",
       "        text-align: right;\n",
       "    }\n",
       "</style>\n",
       "<table border=\"1\" class=\"dataframe\">\n",
       "  <thead>\n",
       "    <tr style=\"text-align: right;\">\n",
       "      <th></th>\n",
       "      <th>pmid_vals</th>\n",
       "      <th>sentence</th>\n",
       "      <th>PMID</th>\n",
       "      <th>arg1</th>\n",
       "      <th>arg2</th>\n",
       "      <th>label</th>\n",
       "      <th>new_arg1</th>\n",
       "      <th>new_arg2</th>\n",
       "    </tr>\n",
       "  </thead>\n",
       "  <tbody>\n",
       "    <tr>\n",
       "      <th>6</th>\n",
       "      <td>32733640.T17.T30</td>\n",
       "      <td>In moderately injured P19 neuronal cells, conc...</td>\n",
       "      <td>32733640</td>\n",
       "      <td>T17</td>\n",
       "      <td>T30</td>\n",
       "      <td>INHIBITOR</td>\n",
       "      <td>T17</td>\n",
       "      <td>T30</td>\n",
       "    </tr>\n",
       "    <tr>\n",
       "      <th>8</th>\n",
       "      <td>32733640.T18.T32</td>\n",
       "      <td>Western blot analysis revealed that @CHEMICAL$...</td>\n",
       "      <td>32733640</td>\n",
       "      <td>T18</td>\n",
       "      <td>T32</td>\n",
       "      <td>INDIRECT-DOWNREGULATOR</td>\n",
       "      <td>T18</td>\n",
       "      <td>T32</td>\n",
       "    </tr>\n",
       "    <tr>\n",
       "      <th>9</th>\n",
       "      <td>32733640.T18.T33</td>\n",
       "      <td>Western blot analysis revealed that @CHEMICAL$...</td>\n",
       "      <td>32733640</td>\n",
       "      <td>T18</td>\n",
       "      <td>T33</td>\n",
       "      <td>INDIRECT-DOWNREGULATOR</td>\n",
       "      <td>T18</td>\n",
       "      <td>T33</td>\n",
       "    </tr>\n",
       "    <tr>\n",
       "      <th>10</th>\n",
       "      <td>32733640.T18.T34</td>\n",
       "      <td>Western blot analysis revealed that @CHEMICAL$...</td>\n",
       "      <td>32733640</td>\n",
       "      <td>T18</td>\n",
       "      <td>T34</td>\n",
       "      <td>INDIRECT-UPREGULATOR</td>\n",
       "      <td>T18</td>\n",
       "      <td>T34</td>\n",
       "    </tr>\n",
       "    <tr>\n",
       "      <th>11</th>\n",
       "      <td>32733640.T18.T35</td>\n",
       "      <td>Western blot analysis revealed that @CHEMICAL$...</td>\n",
       "      <td>32733640</td>\n",
       "      <td>T18</td>\n",
       "      <td>T35</td>\n",
       "      <td>INDIRECT-UPREGULATOR</td>\n",
       "      <td>T18</td>\n",
       "      <td>T35</td>\n",
       "    </tr>\n",
       "    <tr>\n",
       "      <th>12</th>\n",
       "      <td>32733640.T19.T31</td>\n",
       "      <td>Western blot analysis revealed that quercetin ...</td>\n",
       "      <td>32733640</td>\n",
       "      <td>T19</td>\n",
       "      <td>T31</td>\n",
       "      <td>INDIRECT-UPREGULATOR</td>\n",
       "      <td>T19</td>\n",
       "      <td>T31</td>\n",
       "    </tr>\n",
       "    <tr>\n",
       "      <th>13</th>\n",
       "      <td>32733640.T19.T32</td>\n",
       "      <td>Western blot analysis revealed that quercetin ...</td>\n",
       "      <td>32733640</td>\n",
       "      <td>T19</td>\n",
       "      <td>T32</td>\n",
       "      <td>INDIRECT-UPREGULATOR</td>\n",
       "      <td>T19</td>\n",
       "      <td>T32</td>\n",
       "    </tr>\n",
       "    <tr>\n",
       "      <th>14</th>\n",
       "      <td>32733640.T19.T33</td>\n",
       "      <td>Western blot analysis revealed that quercetin ...</td>\n",
       "      <td>32733640</td>\n",
       "      <td>T19</td>\n",
       "      <td>T33</td>\n",
       "      <td>INDIRECT-UPREGULATOR</td>\n",
       "      <td>T19</td>\n",
       "      <td>T33</td>\n",
       "    </tr>\n",
       "    <tr>\n",
       "      <th>15</th>\n",
       "      <td>32733640.T19.T34</td>\n",
       "      <td>Western blot analysis revealed that quercetin ...</td>\n",
       "      <td>32733640</td>\n",
       "      <td>T19</td>\n",
       "      <td>T34</td>\n",
       "      <td>INDIRECT-UPREGULATOR</td>\n",
       "      <td>T19</td>\n",
       "      <td>T34</td>\n",
       "    </tr>\n",
       "    <tr>\n",
       "      <th>16</th>\n",
       "      <td>32733640.T19.T35</td>\n",
       "      <td>Western blot analysis revealed that quercetin ...</td>\n",
       "      <td>32733640</td>\n",
       "      <td>T19</td>\n",
       "      <td>T35</td>\n",
       "      <td>INDIRECT-UPREGULATOR</td>\n",
       "      <td>T19</td>\n",
       "      <td>T35</td>\n",
       "    </tr>\n",
       "    <tr>\n",
       "      <th>26</th>\n",
       "      <td>32733640.T1.T25</td>\n",
       "      <td>@CHEMICAL$ and wortmannin, inhibitors of @GENE...</td>\n",
       "      <td>32733640</td>\n",
       "      <td>T1</td>\n",
       "      <td>T25</td>\n",
       "      <td>INHIBITOR</td>\n",
       "      <td>T1</td>\n",
       "      <td>T25</td>\n",
       "    </tr>\n",
       "    <tr>\n",
       "      <th>27</th>\n",
       "      <td>32733640.T1.T26</td>\n",
       "      <td>@CHEMICAL$ and wortmannin, inhibitors of ERK1/...</td>\n",
       "      <td>32733640</td>\n",
       "      <td>T1</td>\n",
       "      <td>T26</td>\n",
       "      <td>INHIBITOR</td>\n",
       "      <td>T1</td>\n",
       "      <td>T26</td>\n",
       "    </tr>\n",
       "    <tr>\n",
       "      <th>28</th>\n",
       "      <td>32733640.T1.T27</td>\n",
       "      <td>@CHEMICAL$ and wortmannin, inhibitors of ERK1/...</td>\n",
       "      <td>32733640</td>\n",
       "      <td>T1</td>\n",
       "      <td>T27</td>\n",
       "      <td>INHIBITOR</td>\n",
       "      <td>T1</td>\n",
       "      <td>T27</td>\n",
       "    </tr>\n",
       "    <tr>\n",
       "      <th>29</th>\n",
       "      <td>32733640.T2.T25</td>\n",
       "      <td>UO126 and @CHEMICAL$, inhibitors of @GENE$ and...</td>\n",
       "      <td>32733640</td>\n",
       "      <td>T2</td>\n",
       "      <td>T25</td>\n",
       "      <td>INHIBITOR</td>\n",
       "      <td>T2</td>\n",
       "      <td>T25</td>\n",
       "    </tr>\n",
       "    <tr>\n",
       "      <th>40</th>\n",
       "      <td>8293556.T41.T32</td>\n",
       "      <td>3-Hydroxy-3-methyl glutaryl coenzyme A reducta...</td>\n",
       "      <td>8293556</td>\n",
       "      <td>T41</td>\n",
       "      <td>T32</td>\n",
       "      <td>INDIRECT-UPREGULATOR</td>\n",
       "      <td>T32</td>\n",
       "      <td>T41</td>\n",
       "    </tr>\n",
       "    <tr>\n",
       "      <th>43</th>\n",
       "      <td>8293556.T38.T23</td>\n",
       "      <td>However, the actions of plasma cholesterol-low...</td>\n",
       "      <td>8293556</td>\n",
       "      <td>T38</td>\n",
       "      <td>T23</td>\n",
       "      <td>INHIBITOR</td>\n",
       "      <td>T23</td>\n",
       "      <td>T38</td>\n",
       "    </tr>\n",
       "    <tr>\n",
       "      <th>53</th>\n",
       "      <td>8293556.T30.T43</td>\n",
       "      <td>Vasopressin stimulated an initial peak [Ca2+]i...</td>\n",
       "      <td>8293556</td>\n",
       "      <td>T30</td>\n",
       "      <td>T43</td>\n",
       "      <td>SUBSTRATE</td>\n",
       "      <td>T30</td>\n",
       "      <td>T43</td>\n",
       "    </tr>\n",
       "    <tr>\n",
       "      <th>67</th>\n",
       "      <td>24389023.T2.T7</td>\n",
       "      <td>We have recently developed a series of @CHEMIC...</td>\n",
       "      <td>24389023</td>\n",
       "      <td>T2</td>\n",
       "      <td>T7</td>\n",
       "      <td>INHIBITOR</td>\n",
       "      <td>T2</td>\n",
       "      <td>T7</td>\n",
       "    </tr>\n",
       "    <tr>\n",
       "      <th>84</th>\n",
       "      <td>10193446.T36.T12</td>\n",
       "      <td>Previous work indicates that the antianalgesic...</td>\n",
       "      <td>10193446</td>\n",
       "      <td>T36</td>\n",
       "      <td>T12</td>\n",
       "      <td>ANTAGONIST</td>\n",
       "      <td>T12</td>\n",
       "      <td>T36</td>\n",
       "    </tr>\n",
       "    <tr>\n",
       "      <th>94</th>\n",
       "      <td>10193446.T1.T20</td>\n",
       "      <td>The effect of @CHEMICAL$ was eliminated by adm...</td>\n",
       "      <td>10193446</td>\n",
       "      <td>T1</td>\n",
       "      <td>T20</td>\n",
       "      <td>AGONIST</td>\n",
       "      <td>T1</td>\n",
       "      <td>T20</td>\n",
       "    </tr>\n",
       "    <tr>\n",
       "      <th>96</th>\n",
       "      <td>10193446.T20.T2</td>\n",
       "      <td>The effect of dynorphin was eliminated by admi...</td>\n",
       "      <td>10193446</td>\n",
       "      <td>T20</td>\n",
       "      <td>T2</td>\n",
       "      <td>ANTAGONIST</td>\n",
       "      <td>T2</td>\n",
       "      <td>T20</td>\n",
       "    </tr>\n",
       "    <tr>\n",
       "      <th>98</th>\n",
       "      <td>10193446.T20.T3</td>\n",
       "      <td>The effect of dynorphin was eliminated by admi...</td>\n",
       "      <td>10193446</td>\n",
       "      <td>T20</td>\n",
       "      <td>T3</td>\n",
       "      <td>ANTAGONIST</td>\n",
       "      <td>T3</td>\n",
       "      <td>T20</td>\n",
       "    </tr>\n",
       "    <tr>\n",
       "      <th>110</th>\n",
       "      <td>17936043.T1.T36</td>\n",
       "      <td>@CHEMICAL$, anti-gastric ulcer drug, up-regula...</td>\n",
       "      <td>17936043</td>\n",
       "      <td>T1</td>\n",
       "      <td>T36</td>\n",
       "      <td>ACTIVATOR</td>\n",
       "      <td>T1</td>\n",
       "      <td>T36</td>\n",
       "    </tr>\n",
       "    <tr>\n",
       "      <th>112</th>\n",
       "      <td>17936043.T3.T30</td>\n",
       "      <td>@CHEMICAL$ (NO) generated from @GENE$ (iNOS) d...</td>\n",
       "      <td>17936043</td>\n",
       "      <td>T3</td>\n",
       "      <td>T30</td>\n",
       "      <td>PRODUCT-OF</td>\n",
       "      <td>T3</td>\n",
       "      <td>T30</td>\n",
       "    </tr>\n",
       "    <tr>\n",
       "      <th>113</th>\n",
       "      <td>17936043.T3.T32</td>\n",
       "      <td>@CHEMICAL$ (NO) generated from inducible NO sy...</td>\n",
       "      <td>17936043</td>\n",
       "      <td>T3</td>\n",
       "      <td>T32</td>\n",
       "      <td>PRODUCT-OF</td>\n",
       "      <td>T3</td>\n",
       "      <td>T32</td>\n",
       "    </tr>\n",
       "  </tbody>\n",
       "</table>\n",
       "</div>"
      ],
      "text/plain": [
       "            pmid_vals                                           sentence  \\\n",
       "6    32733640.T17.T30  In moderately injured P19 neuronal cells, conc...   \n",
       "8    32733640.T18.T32  Western blot analysis revealed that @CHEMICAL$...   \n",
       "9    32733640.T18.T33  Western blot analysis revealed that @CHEMICAL$...   \n",
       "10   32733640.T18.T34  Western blot analysis revealed that @CHEMICAL$...   \n",
       "11   32733640.T18.T35  Western blot analysis revealed that @CHEMICAL$...   \n",
       "12   32733640.T19.T31  Western blot analysis revealed that quercetin ...   \n",
       "13   32733640.T19.T32  Western blot analysis revealed that quercetin ...   \n",
       "14   32733640.T19.T33  Western blot analysis revealed that quercetin ...   \n",
       "15   32733640.T19.T34  Western blot analysis revealed that quercetin ...   \n",
       "16   32733640.T19.T35  Western blot analysis revealed that quercetin ...   \n",
       "26    32733640.T1.T25  @CHEMICAL$ and wortmannin, inhibitors of @GENE...   \n",
       "27    32733640.T1.T26  @CHEMICAL$ and wortmannin, inhibitors of ERK1/...   \n",
       "28    32733640.T1.T27  @CHEMICAL$ and wortmannin, inhibitors of ERK1/...   \n",
       "29    32733640.T2.T25  UO126 and @CHEMICAL$, inhibitors of @GENE$ and...   \n",
       "40    8293556.T41.T32  3-Hydroxy-3-methyl glutaryl coenzyme A reducta...   \n",
       "43    8293556.T38.T23  However, the actions of plasma cholesterol-low...   \n",
       "53    8293556.T30.T43  Vasopressin stimulated an initial peak [Ca2+]i...   \n",
       "67     24389023.T2.T7  We have recently developed a series of @CHEMIC...   \n",
       "84   10193446.T36.T12  Previous work indicates that the antianalgesic...   \n",
       "94    10193446.T1.T20  The effect of @CHEMICAL$ was eliminated by adm...   \n",
       "96    10193446.T20.T2  The effect of dynorphin was eliminated by admi...   \n",
       "98    10193446.T20.T3  The effect of dynorphin was eliminated by admi...   \n",
       "110   17936043.T1.T36  @CHEMICAL$, anti-gastric ulcer drug, up-regula...   \n",
       "112   17936043.T3.T30  @CHEMICAL$ (NO) generated from @GENE$ (iNOS) d...   \n",
       "113   17936043.T3.T32  @CHEMICAL$ (NO) generated from inducible NO sy...   \n",
       "\n",
       "         PMID arg1 arg2                   label new_arg1 new_arg2  \n",
       "6    32733640  T17  T30               INHIBITOR      T17      T30  \n",
       "8    32733640  T18  T32  INDIRECT-DOWNREGULATOR      T18      T32  \n",
       "9    32733640  T18  T33  INDIRECT-DOWNREGULATOR      T18      T33  \n",
       "10   32733640  T18  T34    INDIRECT-UPREGULATOR      T18      T34  \n",
       "11   32733640  T18  T35    INDIRECT-UPREGULATOR      T18      T35  \n",
       "12   32733640  T19  T31    INDIRECT-UPREGULATOR      T19      T31  \n",
       "13   32733640  T19  T32    INDIRECT-UPREGULATOR      T19      T32  \n",
       "14   32733640  T19  T33    INDIRECT-UPREGULATOR      T19      T33  \n",
       "15   32733640  T19  T34    INDIRECT-UPREGULATOR      T19      T34  \n",
       "16   32733640  T19  T35    INDIRECT-UPREGULATOR      T19      T35  \n",
       "26   32733640   T1  T25               INHIBITOR       T1      T25  \n",
       "27   32733640   T1  T26               INHIBITOR       T1      T26  \n",
       "28   32733640   T1  T27               INHIBITOR       T1      T27  \n",
       "29   32733640   T2  T25               INHIBITOR       T2      T25  \n",
       "40    8293556  T41  T32    INDIRECT-UPREGULATOR      T32      T41  \n",
       "43    8293556  T38  T23               INHIBITOR      T23      T38  \n",
       "53    8293556  T30  T43               SUBSTRATE      T30      T43  \n",
       "67   24389023   T2   T7               INHIBITOR       T2       T7  \n",
       "84   10193446  T36  T12              ANTAGONIST      T12      T36  \n",
       "94   10193446   T1  T20                 AGONIST       T1      T20  \n",
       "96   10193446  T20   T2              ANTAGONIST       T2      T20  \n",
       "98   10193446  T20   T3              ANTAGONIST       T3      T20  \n",
       "110  17936043   T1  T36               ACTIVATOR       T1      T36  \n",
       "112  17936043   T3  T30              PRODUCT-OF       T3      T30  \n",
       "113  17936043   T3  T32              PRODUCT-OF       T3      T32  "
      ]
     },
     "execution_count": 26,
     "metadata": {},
     "output_type": "execute_result"
    }
   ],
   "source": [
    "df_tosubmit.head(25)"
   ]
  },
  {
   "cell_type": "code",
   "execution_count": 27,
   "metadata": {},
   "outputs": [
    {
     "name": "stderr",
     "output_type": "stream",
     "text": [
      "/usr/local/lib/python3.6/dist-packages/ipykernel_launcher.py:1: SettingWithCopyWarning: \n",
      "A value is trying to be set on a copy of a slice from a DataFrame.\n",
      "Try using .loc[row_indexer,col_indexer] = value instead\n",
      "\n",
      "See the caveats in the documentation: https://pandas.pydata.org/pandas-docs/stable/user_guide/indexing.html#returning-a-view-versus-a-copy\n",
      "  \"\"\"Entry point for launching an IPython kernel.\n",
      "/usr/local/lib/python3.6/dist-packages/ipykernel_launcher.py:2: SettingWithCopyWarning: \n",
      "A value is trying to be set on a copy of a slice from a DataFrame.\n",
      "Try using .loc[row_indexer,col_indexer] = value instead\n",
      "\n",
      "See the caveats in the documentation: https://pandas.pydata.org/pandas-docs/stable/user_guide/indexing.html#returning-a-view-versus-a-copy\n",
      "  \n"
     ]
    }
   ],
   "source": [
    "df_tosubmit[\"new_arg1\"] = \"Arg1:\"+ df_tosubmit[\"new_arg1\"]\n",
    "df_tosubmit[\"new_arg2\"] = \"Arg2:\"+ df_tosubmit[\"new_arg2\"]"
   ]
  },
  {
   "cell_type": "code",
   "execution_count": 28,
   "metadata": {},
   "outputs": [],
   "source": [
    "df_final = df_tosubmit[['PMID','label', 'new_arg1','new_arg2']]"
   ]
  },
  {
   "cell_type": "code",
   "execution_count": 29,
   "metadata": {},
   "outputs": [
    {
     "data": {
      "text/html": [
       "<div>\n",
       "<style scoped>\n",
       "    .dataframe tbody tr th:only-of-type {\n",
       "        vertical-align: middle;\n",
       "    }\n",
       "\n",
       "    .dataframe tbody tr th {\n",
       "        vertical-align: top;\n",
       "    }\n",
       "\n",
       "    .dataframe thead th {\n",
       "        text-align: right;\n",
       "    }\n",
       "</style>\n",
       "<table border=\"1\" class=\"dataframe\">\n",
       "  <thead>\n",
       "    <tr style=\"text-align: right;\">\n",
       "      <th></th>\n",
       "      <th>PMID</th>\n",
       "      <th>label</th>\n",
       "      <th>new_arg1</th>\n",
       "      <th>new_arg2</th>\n",
       "    </tr>\n",
       "  </thead>\n",
       "  <tbody>\n",
       "    <tr>\n",
       "      <th>6</th>\n",
       "      <td>32733640</td>\n",
       "      <td>INHIBITOR</td>\n",
       "      <td>Arg1:T17</td>\n",
       "      <td>Arg2:T30</td>\n",
       "    </tr>\n",
       "    <tr>\n",
       "      <th>8</th>\n",
       "      <td>32733640</td>\n",
       "      <td>INDIRECT-DOWNREGULATOR</td>\n",
       "      <td>Arg1:T18</td>\n",
       "      <td>Arg2:T32</td>\n",
       "    </tr>\n",
       "    <tr>\n",
       "      <th>9</th>\n",
       "      <td>32733640</td>\n",
       "      <td>INDIRECT-DOWNREGULATOR</td>\n",
       "      <td>Arg1:T18</td>\n",
       "      <td>Arg2:T33</td>\n",
       "    </tr>\n",
       "    <tr>\n",
       "      <th>10</th>\n",
       "      <td>32733640</td>\n",
       "      <td>INDIRECT-UPREGULATOR</td>\n",
       "      <td>Arg1:T18</td>\n",
       "      <td>Arg2:T34</td>\n",
       "    </tr>\n",
       "    <tr>\n",
       "      <th>11</th>\n",
       "      <td>32733640</td>\n",
       "      <td>INDIRECT-UPREGULATOR</td>\n",
       "      <td>Arg1:T18</td>\n",
       "      <td>Arg2:T35</td>\n",
       "    </tr>\n",
       "    <tr>\n",
       "      <th>...</th>\n",
       "      <td>...</td>\n",
       "      <td>...</td>\n",
       "      <td>...</td>\n",
       "      <td>...</td>\n",
       "    </tr>\n",
       "    <tr>\n",
       "      <th>239765</th>\n",
       "      <td>10772944</td>\n",
       "      <td>DIRECT-REGULATOR</td>\n",
       "      <td>Arg1:T2</td>\n",
       "      <td>Arg2:T10</td>\n",
       "    </tr>\n",
       "    <tr>\n",
       "      <th>239766</th>\n",
       "      <td>10772944</td>\n",
       "      <td>DIRECT-REGULATOR</td>\n",
       "      <td>Arg1:T2</td>\n",
       "      <td>Arg2:T12</td>\n",
       "    </tr>\n",
       "    <tr>\n",
       "      <th>239768</th>\n",
       "      <td>10772944</td>\n",
       "      <td>DIRECT-REGULATOR</td>\n",
       "      <td>Arg1:T3</td>\n",
       "      <td>Arg2:T15</td>\n",
       "    </tr>\n",
       "    <tr>\n",
       "      <th>239769</th>\n",
       "      <td>10772944</td>\n",
       "      <td>DIRECT-REGULATOR</td>\n",
       "      <td>Arg1:T3</td>\n",
       "      <td>Arg2:T16</td>\n",
       "    </tr>\n",
       "    <tr>\n",
       "      <th>239771</th>\n",
       "      <td>10772944</td>\n",
       "      <td>DIRECT-REGULATOR</td>\n",
       "      <td>Arg1:T5</td>\n",
       "      <td>Arg2:T20</td>\n",
       "    </tr>\n",
       "  </tbody>\n",
       "</table>\n",
       "<p>65489 rows × 4 columns</p>\n",
       "</div>"
      ],
      "text/plain": [
       "            PMID                   label  new_arg1  new_arg2\n",
       "6       32733640               INHIBITOR  Arg1:T17  Arg2:T30\n",
       "8       32733640  INDIRECT-DOWNREGULATOR  Arg1:T18  Arg2:T32\n",
       "9       32733640  INDIRECT-DOWNREGULATOR  Arg1:T18  Arg2:T33\n",
       "10      32733640    INDIRECT-UPREGULATOR  Arg1:T18  Arg2:T34\n",
       "11      32733640    INDIRECT-UPREGULATOR  Arg1:T18  Arg2:T35\n",
       "...          ...                     ...       ...       ...\n",
       "239765  10772944        DIRECT-REGULATOR   Arg1:T2  Arg2:T10\n",
       "239766  10772944        DIRECT-REGULATOR   Arg1:T2  Arg2:T12\n",
       "239768  10772944        DIRECT-REGULATOR   Arg1:T3  Arg2:T15\n",
       "239769  10772944        DIRECT-REGULATOR   Arg1:T3  Arg2:T16\n",
       "239771  10772944        DIRECT-REGULATOR   Arg1:T5  Arg2:T20\n",
       "\n",
       "[65489 rows x 4 columns]"
      ]
     },
     "execution_count": 29,
     "metadata": {},
     "output_type": "execute_result"
    }
   ],
   "source": [
    "df_final"
   ]
  },
  {
   "cell_type": "code",
   "execution_count": 33,
   "metadata": {},
   "outputs": [],
   "source": [
    "df_final.to_csv(\"test_submission_sep15/bioelectra.tsv\", sep=\"\\t\", index=False, header=None)"
   ]
  },
  {
   "cell_type": "code",
   "execution_count": null,
   "metadata": {},
   "outputs": [],
   "source": []
  }
 ],
 "metadata": {
  "kernelspec": {
   "display_name": "Python 3",
   "language": "python",
   "name": "python3"
  },
  "language_info": {
   "codemirror_mode": {
    "name": "ipython",
    "version": 3
   },
   "file_extension": ".py",
   "mimetype": "text/x-python",
   "name": "python",
   "nbconvert_exporter": "python",
   "pygments_lexer": "ipython3",
   "version": "3.6.9"
  }
 },
 "nbformat": 4,
 "nbformat_minor": 2
}
